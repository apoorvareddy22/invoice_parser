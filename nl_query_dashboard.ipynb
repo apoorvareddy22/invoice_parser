{
 "cells": [
  {
   "cell_type": "code",
   "execution_count": null,
   "id": "e616350b",
   "metadata": {},
   "outputs": [],
   "source": [
    "import os\n",
    "import pandas as pd\n",
    "import re\n",
    "from sqlalchemy import create_engine\n",
    "from termcolor import colored\n",
    "import google.generativeai as genai\n",
    "\n",
    "# Configure Gemini API Key\n",
    "genai.configure(api_key=os.getenv(\"GEMINI_API_KEY\"))\n"
   ]
  },
  {
   "cell_type": "code",
   "execution_count": null,
   "id": "a976fe96",
   "metadata": {},
   "outputs": [],
   "source": [
    "DB_USER = os.getenv(\"DB_USER\")\n",
    "DB_HOST = os.getenv(\"DB_HOST\")\n",
    "DB_PORT = os.getenv(\"DB_PORT\")\n",
    "DB_NAME = os.getenv(\"DB_NAME\")\n",
    "\n",
    "DATABASE_URL = f\"postgresql://{DB_USER}@{DB_HOST}:{DB_PORT}/{DB_NAME}\"\n",
    "engine = create_engine(DATABASE_URL)\n",
    "df = pd.read_sql(\"SELECT * FROM invoices\", engine)\n",
    "df[\"invoice_date\"] = pd.to_datetime(df[\"invoice_date\"], errors=\"coerce\")\n"
   ]
  },
  {
   "cell_type": "code",
   "execution_count": null,
   "id": "72c79626",
   "metadata": {},
   "outputs": [],
   "source": [
    "def safe_to_float(val):\n",
    "    match = re.findall(r\"\\d+\\.\\d+|\\d+\", str(val))\n",
    "    return float(match[0]) if match else None\n",
    "\n",
    "df[\"total_amount_clean\"] = df[\"total_amount\"].apply(safe_to_float)"
   ]
  },
  {
   "cell_type": "code",
   "execution_count": null,
   "id": "93eb2fd5",
   "metadata": {},
   "outputs": [],
   "source": [
    "model = genai.GenerativeModel(model_name=\"models/gemini-1.5-flash\")\n",
    "\n",
    "def nl_to_filter(user_prompt):\n",
    "    system_prompt = (\n",
    "        \"You are a helpful assistant that translates natural language into Pandas DataFrame filter expressions. \"\n",
    "        \"Assume the DataFrame is named 'df' and has columns: invoice_number (str), vendor_name (str), \"\n",
    "        \"total_amount_clean (float), invoice_date (datetime). Return only the expression. Do not include code comments, outputs, or quotes.\"\n",
    "    )\n",
    "    response = model.generate_content([system_prompt, user_prompt])\n",
    "    return response.text.strip()"
   ]
  },
  {
   "cell_type": "code",
   "execution_count": null,
   "id": "21e072c4",
   "metadata": {},
   "outputs": [],
   "source": [
    "def run_nl_query(prompt):\n",
    "    try:\n",
    "        raw_filter = nl_to_filter(prompt)\n",
    "        print(colored(f\"\\n🔍 Raw Model Output:\\n{raw_filter}\", \"cyan\"))\n",
    "\n",
    "        cleaned_filter = raw_filter.replace(\"df[\", \"\").replace(\"]\", \"\")\n",
    "        print(colored(f\"\\n🔍 Cleaned Filter:\\n{cleaned_filter}\", \"blue\"))\n",
    "\n",
    "        result = df.query(cleaned_filter)\n",
    "        display(result[[\"invoice_number\", \"vendor_name\", \"total_amount\", \"invoice_date\"]])\n",
    "        print(colored(f\"\\n🤖 {len(result)} result(s) found.\", \"green\"))\n",
    "\n",
    "    except Exception as e:\n",
    "        print(colored(f\"❌ Error: {e}\", \"red\"))"
   ]
  },
  {
   "cell_type": "code",
   "execution_count": null,
   "id": "5b5f0ec2",
   "metadata": {},
   "outputs": [],
   "source": [
    "run_nl_query(\"List invoices from vendor Hayes over $500\")"
   ]
  },
  {
   "cell_type": "code",
   "execution_count": null,
   "id": "b56c1d52",
   "metadata": {},
   "outputs": [],
   "source": [
    "df[[\"invoice_number\", \"vendor_name\", \"total_amount\", \"total_amount_clean\"]].head(20)\n"
   ]
  },
  {
   "cell_type": "code",
   "execution_count": null,
   "id": "d1fc334d",
   "metadata": {},
   "outputs": [],
   "source": [
    "df[df.apply(lambda row: row.astype(str).str.contains(\"Hayes\", case=False).any(), axis=1)]\n"
   ]
  }
 ],
 "metadata": {
  "kernelspec": {
   "display_name": "venv",
   "language": "python",
   "name": "python3"
  },
  "language_info": {
   "codemirror_mode": {
    "name": "ipython",
    "version": 3
   },
   "file_extension": ".py",
   "mimetype": "text/x-python",
   "name": "python",
   "nbconvert_exporter": "python",
   "pygments_lexer": "ipython3",
   "version": "3.12.4"
  }
 },
 "nbformat": 4,
 "nbformat_minor": 5
}
