{
 "cells": [
  {
   "cell_type": "code",
   "execution_count": 1,
   "id": "384a35d0",
   "metadata": {},
   "outputs": [],
   "source": [
    "import json\n",
    "import pandas as pd\n",
    "import re\n",
    "import matplotlib.pyplot as plt\n",
    "\n",
    "# === Step 1: Load and Flatten Parsed Data ===\n",
    "with open(\"data/output.json\", \"r\") as f:\n",
    "    raw_data = json.load(f)\n",
    "\n",
    "records = []\n",
    "for file, content in raw_data.items():\n",
    "    parsed = content.get(\"parsed\", {})\n",
    "    parsed[\"source_file\"] = file  # keep reference to original image\n",
    "    records.append(parsed)\n",
    "\n",
    "# Convert to DataFrame\n",
    "df = pd.DataFrame(records)\n",
    "df.columns = [col.lower().replace(\" \", \"_\") for col in df.columns]"
   ]
  },
  {
   "cell_type": "code",
   "execution_count": 2,
   "id": "c4527254",
   "metadata": {},
   "outputs": [],
   "source": [
    "# === Step 2: Clean Total Amount ===\n",
    "def extract_float(text):\n",
    "    if not isinstance(text, str):\n",
    "        return None\n",
    "    matches = re.findall(r\"\\d+\\.\\d+|\\d+\", text)\n",
    "    return float(matches[-1]) if matches else None\n",
    "\n",
    "if \"total_amount\" in df.columns:\n",
    "    df[\"total_amount_clean\"] = df[\"total_amount\"].apply(extract_float)\n",
    "else:\n",
    "    print(\"❗ Column 'total_amount' not found.\")"
   ]
  },
  {
   "cell_type": "code",
   "execution_count": 3,
   "id": "9ed24983",
   "metadata": {},
   "outputs": [
    {
     "name": "stderr",
     "output_type": "stream",
     "text": [
      "/var/folders/wx/81znsths6397s07_ggcjfp_80000gn/T/ipykernel_52369/3257516808.py:4: UserWarning: Parsing dates in %d.%m.%Y format when dayfirst=False (the default) was specified. Pass `dayfirst=True` or specify a format to silence this warning.\n",
      "  df[date_col] = pd.to_datetime(df[date_col], errors=\"coerce\")\n"
     ]
    }
   ],
   "source": [
    "# === Step 3: Convert Date Column ===\n",
    "date_col = \"invoice_date\"\n",
    "if date_col in df.columns:\n",
    "    df[date_col] = pd.to_datetime(df[date_col], errors=\"coerce\")\n",
    "else:\n",
    "    print(f\"❗ Column '{date_col}' not found.\")"
   ]
  },
  {
   "cell_type": "code",
   "execution_count": 4,
   "id": "930b2370",
   "metadata": {},
   "outputs": [
    {
     "name": "stdout",
     "output_type": "stream",
     "text": [
      "\n",
      "Invoices from 2021 with amount > $500:\n",
      "     source_file invoice_number  \\\n",
      "24       360.png         328679   \n",
      "284      942.png         904755   \n",
      "312    60002.png      5215-3946   \n",
      "343      836.png         201147   \n",
      "1144     944.png         295419   \n",
      "1395     832.png         451839   \n",
      "2356     512.png         432223   \n",
      "2797   10754.png         723648   \n",
      "2922     847.png         203321   \n",
      "3454     461.png         899219   \n",
      "3556     861.png         382746   \n",
      "3638     518.png         281672   \n",
      "3903   60322.png      4480-3000   \n",
      "3963     490.png         108426   \n",
      "4482     091.png         366848   \n",
      "4810     496.png         188912   \n",
      "4920     086.png         382236   \n",
      "5017   60284.png      3597-2001   \n",
      "5389     792.png         332547   \n",
      "5535     744.png         592957   \n",
      "5758     815.png         261449   \n",
      "5957     960.png         737153   \n",
      "5977     753.png         291554   \n",
      "6003     196.png         494952   \n",
      "6193   60144.png      5290-9006   \n",
      "6237     025.png         492507   \n",
      "6647   60621.png      6438-5952   \n",
      "6656     185.png         546539   \n",
      "6748   60543.png      5802-4053   \n",
      "6853     796.png         109722   \n",
      "6907     184.png         442656   \n",
      "\n",
      "                                           vendor_name invoice_date  \\\n",
      "24                                         David White   2021-06-27   \n",
      "284                                     Elizabeth Reed   2021-05-08   \n",
      "312                                             473.94   2021-10-29   \n",
      "343                       Sexton-Santana William Smith   2021-06-28   \n",
      "1144                                      Jorge Miller   2021-01-21   \n",
      "1395                                       Burton-Shaw   2021-12-07   \n",
      "2356                                        Shah Group   2021-10-01   \n",
      "2797                                       Laura Myers   2021-07-07   \n",
      "2922                                         Amy Floyd   2021-01-26   \n",
      "3454                                     Edwards Group   2021-04-11   \n",
      "3556                                        Beck Group   2021-05-25   \n",
      "3638                       Howard, Garcia and Williams   2021-10-09   \n",
      "3903  reinvent visionary supply-chains 7.6 95.99 88.94   2021-02-10   \n",
      "3963                          Murphy, Miller and Young   2021-10-09   \n",
      "4482                            Watson, Wade and Jones   2021-12-10   \n",
      "4810                                      Smith-Hodges   2021-05-31   \n",
      "4920            Evans, Ferguson and Wilson Anna Holder   2021-11-22   \n",
      "5017                                            123.57   2021-09-27   \n",
      "5389                                      Clark-Madden   2021-12-19   \n",
      "5535                                     Lauren Gaines   2021-09-17   \n",
      "5758                                      Lloyd-Moreno   2021-01-15   \n",
      "5957                                   Joseph Caldwell   2021-05-28   \n",
      "5977                               Marsh, Fox and Howe   2021-07-08   \n",
      "6003                                    Espinoza-Braun   2021-03-20   \n",
      "6193                                             284.5   2021-11-21   \n",
      "6237                                        Molina Ltd   2021-07-06   \n",
      "6647                                            206.89   2021-07-09   \n",
      "6656                                      Lauren Green   2021-11-10   \n",
      "6748                                            352.03   2021-01-24   \n",
      "6853                                    Mercado-Watson   2021-10-09   \n",
      "6907                                Caldwell-Gutierrez   2021-01-08   \n",
      "\n",
      "      total_amount_clean  \n",
      "24                938.89  \n",
      "284               721.04  \n",
      "312               844.85  \n",
      "343               517.88  \n",
      "1144              942.06  \n",
      "1395              918.46  \n",
      "2356              780.48  \n",
      "2797              535.71  \n",
      "2922              880.17  \n",
      "3454              739.51  \n",
      "3556              612.34  \n",
      "3638              629.75  \n",
      "3903              858.47  \n",
      "3963              828.66  \n",
      "4482              553.42  \n",
      "4810              884.23  \n",
      "4920              716.33  \n",
      "5017              754.55  \n",
      "5389              945.31  \n",
      "5535              648.69  \n",
      "5758              531.89  \n",
      "5957              955.46  \n",
      "5977              823.98  \n",
      "6003              512.11  \n",
      "6193              505.84  \n",
      "6237              754.81  \n",
      "6647              707.60  \n",
      "6656              673.07  \n",
      "6748              608.94  \n",
      "6853              760.82  \n",
      "6907              698.97  \n"
     ]
    }
   ],
   "source": [
    "# === Step 4: Filter/Search Tools ===\n",
    "# Example: Find invoices from 2021 over $500\n",
    "filtered = df[(df[\"invoice_date\"].dt.year == 2021) & (df[\"total_amount_clean\"] > 500)]\n",
    "print(\"\\nInvoices from 2021 with amount > $500:\")\n",
    "print(filtered[[\"source_file\", \"invoice_number\", \"vendor_name\", \"invoice_date\", \"total_amount_clean\"]])\n"
   ]
  },
  {
   "cell_type": "code",
   "execution_count": 5,
   "id": "59b29fdd",
   "metadata": {},
   "outputs": [
    {
     "data": {
      "image/png": "[encoded data removed]",
      "text/plain": [
       "<Figure size 640x480 with 1 Axes>"
      ]
     },
     "metadata": {},
     "output_type": "display_data"
    }
   ],
   "source": [
    "# === Step 5: Plotting ===\n",
    "# Count invoices by year\n",
    "if \"invoice_date\" in df.columns:\n",
    "    df[\"year\"] = df[\"invoice_date\"].dt.year\n",
    "    invoice_counts = df[\"year\"].value_counts().sort_index()\n",
    "\n",
    "    if not invoice_counts.empty:\n",
    "        invoice_counts.plot(kind=\"bar\", title=\"Invoices Per Year\")\n",
    "        plt.xlabel(\"Year\")\n",
    "        plt.ylabel(\"Count\")\n",
    "        plt.tight_layout()\n",
    "        plt.show()\n",
    "    else:\n",
    "        print(\"❗ No valid dates available for plotting.\")\n"
   ]
  }
 ],
 "metadata": {
  "kernelspec": {
   "display_name": "venv",
   "language": "python",
   "name": "python3"
  },
  "language_info": {
   "codemirror_mode": {
    "name": "ipython",
    "version": 3
   },
   "file_extension": ".py",
   "mimetype": "text/x-python",
   "name": "python",
   "nbconvert_exporter": "python",
   "pygments_lexer": "ipython3",
   "version": "3.12.4"
  }
 },
 "nbformat": 4,
 "nbformat_minor": 5
}
